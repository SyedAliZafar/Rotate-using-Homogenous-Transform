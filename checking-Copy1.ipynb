{
 "cells": [
  {
   "cell_type": "code",
   "execution_count": 7,
   "id": "fbbb9005",
   "metadata": {},
   "outputs": [],
   "source": [
    "\n",
    "import open3d as o3d\n",
    "import numpy as np\n",
    "import copy\n",
    "\n",
    "import csv\n",
    "import numpy as np"
   ]
  },
  {
   "cell_type": "code",
   "execution_count": 10,
   "id": "19066e36",
   "metadata": {},
   "outputs": [],
   "source": [
    "source = o3d.io.read_point_cloud( 'Files/MicroEpsilon.pcd')\n",
    "#target = o3d.io.read_point_cloud('../../data3/Mesh2_ROI.pcd')\n",
    "target = o3d.io.read_point_cloud('Files/MicroEpsilon.pcd')"
   ]
  },
  {
   "cell_type": "code",
   "execution_count": 11,
   "id": "cce3852d",
   "metadata": {},
   "outputs": [],
   "source": [
    "#o3d.visualization.draw_geometries([source.paint_uniform_color([255,127,0]),target])"
   ]
  },
  {
   "cell_type": "code",
   "execution_count": 12,
   "id": "b3e67c69",
   "metadata": {},
   "outputs": [],
   "source": [
    "\n",
    "\n",
    "def draw_registration_result(source, target, transformation):\n",
    "    source_temp = copy.deepcopy(source)\n",
    "    target_temp = copy.deepcopy(target)\n",
    "    source_temp.paint_uniform_color([1, 0, 0])\n",
    "    target_temp.paint_uniform_color([1, 0.5, 0.929])\n",
    "    target_temp.transform(transformation)\n",
    "    \n",
    "    o3d.visualization.draw_geometries([source_temp, target_temp])\n",
    "    #o3d.visualization.draw_geometries(source_temp)\n",
    "    #print(source_temp.transform(transformation))\n",
    "\n",
    "    #o3d.io.write_point_cloud(\"Files\\rotate_target.pcd\", target_temp) \n",
    "    #o3d.io.write_point_cloud(\"rotatedsource.pcd\", source_temp) \n",
    "    \n"
   ]
  },
  {
   "cell_type": "code",
   "execution_count": 17,
   "id": "a17819ba",
   "metadata": {},
   "outputs": [],
   "source": [
    "## Applying Transformation\n",
    "\n",
    "threshold = 0.02\n",
    "## 80° Z direction\n",
    "trans_init = np.asarray([[0.866,  -0.5,    0,     0],\n",
    " [0.5    ,0.866  ,-0.5    ,0],\n",
    " [0,      0,       0,     0],\n",
    " [0        , 0    ,0      ,1]])\n",
    "\n",
    "draw_registration_result(source, target, trans_init)\n",
    "\n"
   ]
  },
  {
   "cell_type": "raw",
   "id": "9196e355",
   "metadata": {},
   "source": [
    "# 70\n",
    "trans_init = np.asarray(\n",
    "[[0.342, -0.94  ,  0    ,     0],\n",
    " [0.94 , 0.342  ,  -0.94 ,   0],\n",
    " [0,     0.94 ,   0.342  ,   0],\n",
    " [0     ,  0 ,        0 ,     1]])\n"
   ]
  },
  {
   "cell_type": "code",
   "execution_count": 18,
   "id": "11b51986",
   "metadata": {},
   "outputs": [],
   "source": [
    "target1 = o3d.io.read_point_cloud('Files/rotate_target.pcd')\n",
    "o3d.visualization.draw_geometries([target1])"
   ]
  },
  {
   "cell_type": "code",
   "execution_count": null,
   "id": "2bb5cc36",
   "metadata": {},
   "outputs": [],
   "source": [
    "## 90° Z direction\n",
    "trans_init = np.asarray(\n",
    "[[0.017, -0.94  ,  0    ,     0],\n",
    " [0.94 , 0.017  ,  -0.94 ,   0],\n",
    " [0,     0.94 ,   0.017  ,   0],\n",
    " [0     ,  0 ,        0 ,     1]])"
   ]
  },
  {
   "cell_type": "code",
   "execution_count": null,
   "id": "e3571129",
   "metadata": {},
   "outputs": [],
   "source": [
    "trans_init = np.asarray([[0.866,  -0.5,    0,     1],\n",
    " [0.5    ,0.866  ,-0.5    ,1],\n",
    " [0,      0,       0,     1],\n",
    " [0        , 0    ,0      ,1]])"
   ]
  },
  {
   "cell_type": "raw",
   "id": "4248bed3",
   "metadata": {},
   "source": [
    "## 89°\n",
    "trans_init = np.asarray(\n",
    "[[0.017, -0.99  ,  0    ,     0],\n",
    " [0.99 , 0.017  ,  -0.99 ,   0],\n",
    " [0,     0.99 ,   0.017  ,   0],\n",
    " [0     ,  0 ,        0 ,     1]])\n",
    "    "
   ]
  },
  {
   "cell_type": "raw",
   "id": "6b023210",
   "metadata": {},
   "source": [
    "## formula°\n",
    "\n",
    "[[cosθ, -sinθ    0         0]\n",
    " [sinθ , cosθ    -sinθ     0]\n",
    " [0,     sinθ ,   cosθ     0]\n",
    " [0       0         0      1]\n",
    "    \n",
    "    \n",
    "]]\n"
   ]
  },
  {
   "cell_type": "markdown",
   "id": "578ef0b3",
   "metadata": {},
   "source": [
    "## 30°\n",
    "\n",
    "trans_init = np.asarray( [[0.866,-0.5,0,1],\n",
    " [0.5,0.866,0,1],\n",
    " [0,0,0,1],\n",
    " [ 0,0,0,1]] )\n",
    "\n"
   ]
  },
  {
   "cell_type": "code",
   "execution_count": null,
   "id": "16bbef4b",
   "metadata": {},
   "outputs": [],
   "source": []
  },
  {
   "cell_type": "code",
   "execution_count": 5,
   "id": "3ed0f82e",
   "metadata": {},
   "outputs": [
    {
     "name": "stdout",
     "output_type": "stream",
     "text": [
      "[Open3D WARNING] invalid color in PaintUniformColor, clipping to [0, 1]\n"
     ]
    }
   ],
   "source": [
    "source1 = o3d.io.read_point_cloud( 'Files/rotate_target50.pcd')\n",
    "#target = o3d.io.read_point_cloud('../../data3/Mesh2_ROI.pcd')\n",
    "target1 = o3d.io.read_point_cloud('Files/AlignedMicroEpsilon.pcd')\n",
    "o3d.visualization.draw_geometries([source1,target1.paint_uniform_color([0,127,0])])\n",
    "#o3d.visualization.draw_geometries([source1])"
   ]
  },
  {
   "cell_type": "code",
   "execution_count": 6,
   "id": "7038f43c",
   "metadata": {},
   "outputs": [],
   "source": [
    "o3d.visualization.draw_geometries([target1])"
   ]
  },
  {
   "cell_type": "code",
   "execution_count": null,
   "id": "71cb1b65",
   "metadata": {},
   "outputs": [],
   "source": []
  },
  {
   "cell_type": "code",
   "execution_count": null,
   "id": "90215c07",
   "metadata": {},
   "outputs": [],
   "source": [
    "############################## Checking the Transformation #######################"
   ]
  }
 ],
 "metadata": {
  "kernelspec": {
   "display_name": "Python 3",
   "language": "python",
   "name": "python3"
  },
  "language_info": {
   "codemirror_mode": {
    "name": "ipython",
    "version": 3
   },
   "file_extension": ".py",
   "mimetype": "text/x-python",
   "name": "python",
   "nbconvert_exporter": "python",
   "pygments_lexer": "ipython3",
   "version": "3.6.15"
  }
 },
 "nbformat": 4,
 "nbformat_minor": 5
}
