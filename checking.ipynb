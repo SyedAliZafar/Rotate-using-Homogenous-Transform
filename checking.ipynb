{
 "cells": [
  {
   "cell_type": "code",
   "execution_count": 1,
   "id": "a80b7d93",
   "metadata": {},
   "outputs": [
    {
     "name": "stdout",
     "output_type": "stream",
     "text": [
      "Jupyter environment detected. Enabling Open3D WebVisualizer.\n",
      "[Open3D INFO] WebRTC GUI backend enabled.\n",
      "[Open3D INFO] WebRTCWindowSystem: HTTP handshake server disabled.\n"
     ]
    }
   ],
   "source": [
    "\n",
    "import open3d as o3d\n",
    "import numpy as np\n",
    "import copy\n",
    "\n",
    "import csv\n",
    "import numpy as np"
   ]
  },
  {
   "cell_type": "code",
   "execution_count": 2,
   "id": "f2cbc49d",
   "metadata": {},
   "outputs": [],
   "source": [
    "source = o3d.io.read_point_cloud( 'Files/MicroEpsilon.pcd')\n",
    "#target = o3d.io.read_point_cloud('../../data3/Mesh2_ROI.pcd')\n",
    "target = o3d.io.read_point_cloud('Files/MicroEpsilon.pcd')"
   ]
  },
  {
   "cell_type": "code",
   "execution_count": 3,
   "id": "e1c03255",
   "metadata": {},
   "outputs": [],
   "source": [
    "#o3d.visualization.draw_geometries([source.paint_uniform_color([255,127,0]),target])"
   ]
  },
  {
   "cell_type": "code",
   "execution_count": 44,
   "id": "b6097c0a",
   "metadata": {},
   "outputs": [],
   "source": [
    "\n",
    "\n",
    "def draw_registration_result(source, target, transformation):\n",
    "    source_temp = copy.deepcopy(source)\n",
    "    target_temp = copy.deepcopy(target)\n",
    "    source_temp.paint_uniform_color([1, 0, 0])\n",
    "    target_temp.paint_uniform_color([1, 0.5, 0.929])\n",
    "    target_temp.transform(transformation)\n",
    "    \n",
    "    o3d.visualization.draw_geometries([source_temp, target_temp])\n",
    "    #o3d.visualization.draw_geometries(source_temp)\n",
    "    #print(source_temp.transform(transformation))\n",
    "\n",
    "    #o3d.io.write_point_cloud(r\"Files\\rotate_target30.pcd\", target_temp) \n",
    "    #o3d.io.write_point_cloud(\"rotatedsource.pcd\", source_temp) \n",
    "    \n"
   ]
  },
  {
   "cell_type": "code",
   "execution_count": 45,
   "id": "9f09d4ba",
   "metadata": {},
   "outputs": [],
   "source": [
    "## Applying Transformation\n",
    "\n",
    "threshold = 0.02\n",
    "\n",
    "trans_init = np.asarray( [[0.866,-0.5,0,0],\n",
    " [0.5,0.866,0,0],\n",
    " [0,0,1,0],\n",
    " [ 0,0,0,1]] )\n",
    "\n",
    "draw_registration_result(source, target, trans_init)\n",
    "\n"
   ]
  },
  {
   "cell_type": "code",
   "execution_count": 46,
   "id": "1e9a7cb0",
   "metadata": {},
   "outputs": [],
   "source": [
    "target1= o3d.io.read_point_cloud('Files/rotate_target30.pcd')\n",
    "\n",
    "o3d.visualization.draw_geometries([target1.paint_uniform_color([0.5,0.5,0.3])])"
   ]
  },
  {
   "cell_type": "code",
   "execution_count": 32,
   "id": "75b7e02b",
   "metadata": {},
   "outputs": [
    {
     "data": {
      "text/plain": [
       "array([[ 0.642, -0.76 ,  0.   ,  0.   ],\n",
       "       [ 0.76 ,  0.642, -0.76 ,  0.   ],\n",
       "       [ 0.   ,  0.76 ,  0.642,  0.   ],\n",
       "       [ 0.   ,  0.   ,  0.   ,  1.   ]])"
      ]
     },
     "execution_count": 32,
     "metadata": {},
     "output_type": "execute_result"
    }
   ],
   "source": [
    "# 50\n",
    "np.asarray( [\n",
    "[0.642,    -0.76  ,      0,            0],\n",
    "[0.76,      0.642,      -0.76,          0],\n",
    "[0,         0.76,        0.642,        0],\n",
    "[0,         0,          0,            1]] )\n"
   ]
  },
  {
   "cell_type": "code",
   "execution_count": 8,
   "id": "757564b5",
   "metadata": {},
   "outputs": [],
   "source": [
    "# 50\n"
   ]
  },
  {
   "cell_type": "code",
   "execution_count": 9,
   "id": "6b303243",
   "metadata": {},
   "outputs": [],
   "source": [
    "# 70\n",
    "trans_init = np.asarray(\n",
    "[[0.342, -0.94  ,  0    ,     0],\n",
    " [0.94 , 0.342  ,  -0.94 ,   0],\n",
    " [0,     0.94 ,   0.342  ,   0],\n",
    " [0     ,  0 ,        0 ,     1]])\n"
   ]
  },
  {
   "cell_type": "code",
   "execution_count": null,
   "id": "0c6a0cc9",
   "metadata": {},
   "outputs": [],
   "source": []
  },
  {
   "cell_type": "code",
   "execution_count": 10,
   "id": "64f69fa1",
   "metadata": {},
   "outputs": [],
   "source": [
    "## 90° Z direction\n",
    "trans_init = np.asarray( [[0.866,-0.5,0,1],\n",
    " [0.5,0.866,-0.5,1],\n",
    " [0,0,0,1],\n",
    " [ 0,0,0,1]] )"
   ]
  },
  {
   "cell_type": "code",
   "execution_count": 11,
   "id": "a212b57b",
   "metadata": {},
   "outputs": [],
   "source": [
    "## 80°\n"
   ]
  },
  {
   "cell_type": "raw",
   "id": "842342da",
   "metadata": {},
   "source": [
    "## 30°\n",
    "\n",
    "trans_init = np.asarray( [[0.866,-0.5,0,0],\n",
    " [0.5,0.866,0,0],\n",
    " [0,0,0,0],\n",
    " [ 0,0,0,1]] )\n",
    "\n"
   ]
  },
  {
   "cell_type": "code",
   "execution_count": null,
   "id": "44dcccb6",
   "metadata": {},
   "outputs": [],
   "source": []
  },
  {
   "cell_type": "code",
   "execution_count": 12,
   "id": "eb85e64c",
   "metadata": {},
   "outputs": [
    {
     "name": "stdout",
     "output_type": "stream",
     "text": [
      "[Open3D WARNING] invalid color in PaintUniformColor, clipping to [0, 1]\n"
     ]
    }
   ],
   "source": [
    "source1 = o3d.io.read_point_cloud( 'Files/rotate_target.pcd')\n",
    "#target = o3d.io.read_point_cloud('../../data3/Mesh2_ROI.pcd')\n",
    "target1 = o3d.io.read_point_cloud('Files/MicroEpsilon.pcd')\n",
    "o3d.visualization.draw_geometries([source1.paint_uniform_color([0,127,0])])\n",
    "#o3d.visualization.draw_geometries([source1])"
   ]
  },
  {
   "cell_type": "code",
   "execution_count": 13,
   "id": "c821e551",
   "metadata": {},
   "outputs": [
    {
     "name": "stdout",
     "output_type": "stream",
     "text": [
      "[Open3D WARNING] invalid color in PaintUniformColor, clipping to [0, 1]\n"
     ]
    }
   ],
   "source": [
    "o3d.visualization.draw_geometries([source1.paint_uniform_color([0,60,0])])"
   ]
  },
  {
   "cell_type": "code",
   "execution_count": null,
   "id": "1cbfc255",
   "metadata": {},
   "outputs": [],
   "source": []
  },
  {
   "cell_type": "code",
   "execution_count": 14,
   "id": "d600d289",
   "metadata": {},
   "outputs": [],
   "source": [
    "############################## Checking the Transformation #######################"
   ]
  }
 ],
 "metadata": {
  "kernelspec": {
   "display_name": "Python 3",
   "language": "python",
   "name": "python3"
  },
  "language_info": {
   "codemirror_mode": {
    "name": "ipython",
    "version": 3
   },
   "file_extension": ".py",
   "mimetype": "text/x-python",
   "name": "python",
   "nbconvert_exporter": "python",
   "pygments_lexer": "ipython3",
   "version": "3.6.15"
  }
 },
 "nbformat": 4,
 "nbformat_minor": 5
}
