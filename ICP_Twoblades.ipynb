{
 "cells": [
  {
   "cell_type": "code",
   "execution_count": 1,
   "id": "edf5f7c6",
   "metadata": {},
   "outputs": [],
   "source": [
    "# Must see the link below\n",
    "# https://laempy.github.io/pyoints/tutorials/icp.html\n",
    "# new"
   ]
  },
  {
   "cell_type": "code",
   "execution_count": 2,
   "id": "90a84479",
   "metadata": {},
   "outputs": [],
   "source": [
    "import simpleicp\n"
   ]
  },
  {
   "cell_type": "code",
   "execution_count": 3,
   "id": "78ae3520",
   "metadata": {},
   "outputs": [
    {
     "name": "stdout",
     "output_type": "stream",
     "text": [
      "Jupyter environment detected. Enabling Open3D WebVisualizer.\n",
      "[Open3D INFO] WebRTC GUI backend enabled.\n",
      "[Open3D INFO] WebRTCWindowSystem: HTTP handshake server disabled.\n"
     ]
    }
   ],
   "source": [
    "import open3d as o3d\n",
    "import numpy as np\n",
    "import copy\n",
    "\n",
    "import csv\n",
    "import numpy as np\n",
    "import simpleicp\n"
   ]
  },
  {
   "cell_type": "code",
   "execution_count": 4,
   "id": "b134248c",
   "metadata": {},
   "outputs": [],
   "source": [
    "\n",
    "\n",
    "def read_xyz(path_to_pc):\n",
    "    X = []\n",
    "    with open(path_to_pc) as f:\n",
    "        reader = csv.reader(f, delimiter=' ')\n",
    "        for row in reader:\n",
    "            X.append(list(map(float, row)))\n",
    "    return X\n",
    "\n",
    "\n",
    "path_to_pc1 = 'D:/image_processing/Michael_CAD/CompareCADandME4/AlignedMicroEpsilon.txt'\n",
    "path_to_pc2 = 'D:\\image_processing\\Michael_CAD\\RotateCadFiles\\90rotatedMicroEpsilon.txt'\n",
    "\n",
    "\n",
    "X_fix = np.array(read_xyz(path_to_pc1))\n",
    "X_mov = np.array(read_xyz(path_to_pc2))\n",
    "#print(path_to_pc1)\n",
    "#print(path_to_pc2)\n",
    "\n",
    "#simpleicp.simpleicp(X_fix, X_mov)"
   ]
  },
  {
   "cell_type": "code",
   "execution_count": 5,
   "id": "12302dc8",
   "metadata": {},
   "outputs": [
    {
     "name": "stdout",
     "output_type": "stream",
     "text": [
      "[02:56:04.473] Create point cloud objects ...\n",
      "[02:56:04.473] Select points for correspondences in fixed point cloud ...\n",
      "[02:56:04.476] Estimate normals of selected points ...\n",
      "[02:56:04.615] Start iterations ...\n"
     ]
    },
    {
     "name": "stderr",
     "output_type": "stream",
     "text": [
      "D:\\image_processing\\Michael_CAD\\3dpointcompare\\Step3\\simpleicp.py:65: FutureWarning: `rcond` parameter will change to the default of machine precision times ``max(M, N)`` where M and N are the input matrix dimensions.\n",
      "To use the future default and silence this warning we advise to pass `rcond=None`, to keep using the old, explicitly pass `rcond=-1`.\n",
      "  x, _, _, _ = np.linalg.lstsq(A, l)\n"
     ]
    },
    {
     "name": "stdout",
     "output_type": "stream",
     "text": [
      "[02:56:04.693] Iteration | correspondences | mean(residuals) | std(residuals) \n",
      "[02:56:04.693]         0 |            1000 |          0.0557 |          0.8006\n",
      "[02:56:04.693]         1 |            1000 |          0.0022 |          0.2352\n",
      "[02:56:04.746]         2 |            1000 |          0.0012 |          0.0421\n",
      "[02:56:04.825]         3 |            1000 |         -0.0005 |          0.0168\n",
      "[02:56:04.894]         4 |            1000 |         -0.0002 |          0.0168\n",
      "[02:56:04.966]         5 |            1000 |         -0.0003 |          0.0168\n",
      "[02:56:05.026]         6 |            1000 |         -0.0003 |          0.0167\n",
      "[02:56:05.095]         7 |            1000 |         -0.0003 |          0.0167\n",
      "[02:56:05.169]         8 |            1000 |         -0.0003 |          0.0167\n",
      "[02:56:05.226]         9 |            1000 |         -0.0003 |          0.0167\n",
      "[02:56:05.295]        10 |            1000 |         -0.0003 |          0.0167\n",
      "[02:56:05.372]        11 |            1000 |         -0.0003 |          0.0167\n",
      "[02:56:05.427]        12 |            1000 |         -0.0003 |          0.0167\n",
      "[02:56:05.507]        13 |            1000 |         -0.0003 |          0.0167\n",
      "[02:56:05.560]        14 |            1000 |         -0.0003 |          0.0167\n",
      "[02:56:05.629]        15 |            1000 |         -0.0003 |          0.0167\n",
      "[02:56:05.709] Convergence criteria fulfilled -> stop iteration!\n",
      "[02:56:05.709] Estimated transformation matrix H:\n",
      "[02:56:05.709] H = [    0.997995    -0.105417    -0.034453    -0.028479]\n",
      "[02:56:05.709]     [    0.105359     0.998005     0.002983    -0.080898]\n",
      "[02:56:05.709]     [    0.034465    -0.003813     1.000008     0.002810]\n",
      "[02:56:05.709]     [    0.000000     0.000000     0.000000     1.000000]\n",
      "[02:56:05.709] Finished in 1.236 seconds!\n"
     ]
    }
   ],
   "source": [
    "transformation=simpleicp.simpleicp(X_fix, X_mov,min_planarity= -0.000001,min_change=0.000000000001,max_iterations=100 )"
   ]
  },
  {
   "cell_type": "code",
   "execution_count": 6,
   "id": "bf514f24",
   "metadata": {},
   "outputs": [
    {
     "data": {
      "text/plain": [
       "array([[ 0.9979949 , -0.105417  , -0.03445337, -0.02847946],\n",
       "       [ 0.1053589 ,  0.99800542,  0.00298343, -0.08089844],\n",
       "       [ 0.03446508, -0.00381329,  1.00000784,  0.00281015],\n",
       "       [ 0.        ,  0.        ,  0.        ,  1.        ]])"
      ]
     },
     "execution_count": 6,
     "metadata": {},
     "output_type": "execute_result"
    }
   ],
   "source": [
    "## Current \n",
    "transformation"
   ]
  },
  {
   "cell_type": "code",
   "execution_count": null,
   "id": "88acaff4",
   "metadata": {},
   "outputs": [],
   "source": [
    "# Reference\n",
    "\n",
    "transformation"
   ]
  },
  {
   "cell_type": "markdown",
   "id": "23046037",
   "metadata": {},
   "source": [
    "###  Yellow dkhna or save krna hai"
   ]
  },
  {
   "cell_type": "code",
   "execution_count": 14,
   "id": "6722aa03",
   "metadata": {},
   "outputs": [],
   "source": [
    "\n",
    "import open3d as o3d\n",
    "import numpy as np\n",
    "import copy\n",
    "def draw_registration_result(source, target, transformation):\n",
    "    source_temp = copy.deepcopy(source)\n",
    "    target_temp = copy.deepcopy(target)\n",
    "    source_temp.paint_uniform_color([1, 0.7, 0])\n",
    "    target_temp.paint_uniform_color([0, 0.651, 0.929])\n",
    "    target_temp.transform(transformation)\n",
    "    \n",
    "    o3d.visualization.draw_geometries([source_temp, target_temp])\n",
    "    #o3d.visualization.draw_geometries(source_temp)\n",
    "    #print(source_temp.transform(transformation))\n",
    "\n",
    "    #o3d.io.write_point_cloud(\"reg_source1.pcd\", source_temp.transform(transformation)) \n",
    "    #o3d.io.write_point_cloud(\"D:/image_processing/Michael_CAD/RotateCadFiles/trasnformed.pcd\", target_temp) \n",
    "    \n"
   ]
  },
  {
   "cell_type": "code",
   "execution_count": 15,
   "id": "fc9c13f6",
   "metadata": {},
   "outputs": [],
   "source": [
    "source = o3d.io.read_point_cloud( 'D:/image_processing/Michael_CAD/CompareCADandME4/AlignedMicroEpsilon.pcd')\n",
    "#target = o3d.io.read_point_cloud('../../data3/Mesh2_ROI.pcd')\n",
    "target = o3d.io.read_point_cloud('D:/image_processing/Michael_CAD/CompareCADandME4/90rotateMicroEpsilon.pcd')\n",
    "threshold = 0.02\n",
    "trans_init = np.array([[ 0.9979949 , -0.105417  , -0.03445337, -0.02847946],\n",
    "       [ 0.1053589 ,  0.99800542,  0.00298343, -0.08089844],\n",
    "       [ 0.03446508, -0.00381329,  1.00000784,  0.00281015],\n",
    "       [ 0.        ,  0.        ,  0.        ,  1.        ]])\n",
    "\n",
    "draw_registration_result(source, target, trans_init)\n",
    "\n"
   ]
  },
  {
   "cell_type": "code",
   "execution_count": null,
   "id": "41263b45",
   "metadata": {},
   "outputs": [],
   "source": [
    "array([[ 0.9979949 , -0.105417  , -0.03445337, -0.02847946],\n",
    "       [ 0.1053589 ,  0.99800542,  0.00298343, -0.08089844],\n",
    "       [ 0.03446508, -0.00381329,  1.00000784,  0.00281015],\n",
    "       [ 0.        ,  0.        ,  0.        ,  1.        ]])"
   ]
  },
  {
   "cell_type": "code",
   "execution_count": null,
   "id": "2af8c168",
   "metadata": {},
   "outputs": [],
   "source": []
  },
  {
   "cell_type": "code",
   "execution_count": null,
   "id": "824cec5e",
   "metadata": {},
   "outputs": [],
   "source": [
    "############ Program Ends #######################"
   ]
  },
  {
   "cell_type": "raw",
   "id": "3ef04a97",
   "metadata": {},
   "source": [
    "### Another program H transform\n",
    "* 1 row last coulum chnage of ROI plane translation\n",
    " [[ 2.66654498e-01 -9.43645446e-01  1.96032269e-01 -8.74277372e+00]\n",
    " [ 9.60943638e-01  2.75935186e-01  2.11446730e-02  4.34581260e+00]\n",
    " [-7.40452748e-02  1.82737639e-01  9.80369447e-01  2.54549347e+02]\n",
    " [ 0.00000000e+00  0.00000000e+00  0.00000000e+00  1.00000000e+00]]"
   ]
  },
  {
   "cell_type": "code",
   "execution_count": null,
   "id": "796b53fc",
   "metadata": {},
   "outputs": [],
   "source": [
    " [[ 8.43603733e-01 -6.62441400e-03  5.36925376e-01 -5.20454077e-02]\n",
    " [ 5.93933390e-03  9.99977845e-01  3.00567464e-03 -2.50621039e-04]\n",
    " [-5.36933391e-01  6.53380737e-04  8.43624387e-01 -1.20482563e-02]\n",
    " [ 0.00000000e+00  0.00000000e+00  0.00000000e+00  1.00000000e+00]]"
   ]
  },
  {
   "cell_type": "code",
   "execution_count": null,
   "id": "4a9963d9",
   "metadata": {},
   "outputs": [],
   "source": [
    "source = o3d.io.read_point_cloud( '../microepsilon/Data2/me_data2.pcd')\n",
    "#target = o3d.io.read_point_cloud( '../bunny_data/bun45.pcd')\n",
    "                                   \n",
    "#o3d.visualization.draw_geometries([source, target])\n",
    "o3d.visualization.draw_geometries([source])                                   "
   ]
  },
  {
   "cell_type": "code",
   "execution_count": null,
   "id": "f9dcfb7d",
   "metadata": {},
   "outputs": [],
   "source": [
    "\n",
    "                                   "
   ]
  }
 ],
 "metadata": {
  "kernelspec": {
   "display_name": "Python 3",
   "language": "python",
   "name": "python3"
  },
  "language_info": {
   "codemirror_mode": {
    "name": "ipython",
    "version": 3
   },
   "file_extension": ".py",
   "mimetype": "text/x-python",
   "name": "python",
   "nbconvert_exporter": "python",
   "pygments_lexer": "ipython3",
   "version": "3.6.15"
  }
 },
 "nbformat": 4,
 "nbformat_minor": 5
}
