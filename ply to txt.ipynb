{
 "cells": [
  {
   "cell_type": "code",
   "execution_count": null,
   "id": "20b79fbe",
   "metadata": {},
   "outputs": [],
   "source": [
    "# https://stackoverflow.com/questions/57680204/how-to-write-data-from-a-point-cloud-file-to-a-text-file"
   ]
  },
  {
   "cell_type": "code",
   "execution_count": 2,
   "id": "d73363c6",
   "metadata": {},
   "outputs": [
    {
     "data": {
      "text/plain": [
       "'D:\\\\image_processing\\\\Michael_CAD\\\\RotatingPointCloud'"
      ]
     },
     "execution_count": 2,
     "metadata": {},
     "output_type": "execute_result"
    }
   ],
   "source": [
    "pwd"
   ]
  },
  {
   "cell_type": "code",
   "execution_count": 5,
   "id": "17b024be",
   "metadata": {},
   "outputs": [],
   "source": [
    "import numpy as np\n",
    "import open3d as o3d\n",
    "\n",
    "pcd= o3d.io.read_point_cloud(\"Files/MicroEpsilon.pcd\")\n",
    "array=np.asarray(pcd.points)\n"
   ]
  },
  {
   "cell_type": "code",
   "execution_count": 6,
   "id": "c6f23146",
   "metadata": {},
   "outputs": [],
   "source": [
    "np.savetxt('Files/source.txt', array, delimiter=\" \", fmt=\"%s\") "
   ]
  },
  {
   "cell_type": "raw",
   "id": "bc881942",
   "metadata": {},
   "source": [
    "\n",
    "with open(\"Rotated2_FW75735.txt\", mode='w') as f:  # I add the mode='w'\n",
    "    for i in range(len(array)):\n",
    "        f.write(\"%f \"%float(array[i][0]))\n",
    "        f.write(\"%f \"%float(array[i][1]))\n",
    "        f.write(\"%f \\n\"%float(array[i][2]))"
   ]
  },
  {
   "cell_type": "code",
   "execution_count": 107,
   "id": "26f1ed28",
   "metadata": {},
   "outputs": [],
   "source": []
  },
  {
   "cell_type": "code",
   "execution_count": null,
   "id": "3f798a2b",
   "metadata": {},
   "outputs": [],
   "source": []
  },
  {
   "cell_type": "code",
   "execution_count": 6,
   "id": "c9892eae",
   "metadata": {},
   "outputs": [],
   "source": [
    "import pandas as pd\n",
    "\n",
    "df= pd.read_csv(r\"textfile/plane_blade.txt\", header=None, sep=\" \")"
   ]
  },
  {
   "cell_type": "code",
   "execution_count": 7,
   "id": "178ec26f",
   "metadata": {},
   "outputs": [
    {
     "data": {
      "text/plain": [
       "15090"
      ]
     },
     "execution_count": 7,
     "metadata": {},
     "output_type": "execute_result"
    }
   ],
   "source": [
    "df.head()\n",
    "len(df)"
   ]
  },
  {
   "cell_type": "code",
   "execution_count": 10,
   "id": "333a19f8",
   "metadata": {},
   "outputs": [
    {
     "data": {
      "text/html": [
       "<div>\n",
       "<style scoped>\n",
       "    .dataframe tbody tr th:only-of-type {\n",
       "        vertical-align: middle;\n",
       "    }\n",
       "\n",
       "    .dataframe tbody tr th {\n",
       "        vertical-align: top;\n",
       "    }\n",
       "\n",
       "    .dataframe thead th {\n",
       "        text-align: right;\n",
       "    }\n",
       "</style>\n",
       "<table border=\"1\" class=\"dataframe\">\n",
       "  <thead>\n",
       "    <tr style=\"text-align: right;\">\n",
       "      <th></th>\n",
       "      <th>0</th>\n",
       "      <th>1</th>\n",
       "      <th>2</th>\n",
       "    </tr>\n",
       "  </thead>\n",
       "  <tbody>\n",
       "    <tr>\n",
       "      <th>0</th>\n",
       "      <td>8.435681</td>\n",
       "      <td>-11.047253</td>\n",
       "      <td>244.750290</td>\n",
       "    </tr>\n",
       "    <tr>\n",
       "      <th>1</th>\n",
       "      <td>8.446041</td>\n",
       "      <td>-11.026495</td>\n",
       "      <td>244.748108</td>\n",
       "    </tr>\n",
       "    <tr>\n",
       "      <th>2</th>\n",
       "      <td>8.476759</td>\n",
       "      <td>-10.750369</td>\n",
       "      <td>244.646225</td>\n",
       "    </tr>\n",
       "    <tr>\n",
       "      <th>3</th>\n",
       "      <td>8.465103</td>\n",
       "      <td>-10.767718</td>\n",
       "      <td>244.659836</td>\n",
       "    </tr>\n",
       "    <tr>\n",
       "      <th>4</th>\n",
       "      <td>8.720955</td>\n",
       "      <td>-10.878760</td>\n",
       "      <td>244.621460</td>\n",
       "    </tr>\n",
       "    <tr>\n",
       "      <th>...</th>\n",
       "      <td>...</td>\n",
       "      <td>...</td>\n",
       "      <td>...</td>\n",
       "    </tr>\n",
       "    <tr>\n",
       "      <th>15085</th>\n",
       "      <td>-4.601030</td>\n",
       "      <td>1.012755</td>\n",
       "      <td>218.866974</td>\n",
       "    </tr>\n",
       "    <tr>\n",
       "      <th>15086</th>\n",
       "      <td>-4.917066</td>\n",
       "      <td>0.879322</td>\n",
       "      <td>218.440002</td>\n",
       "    </tr>\n",
       "    <tr>\n",
       "      <th>15087</th>\n",
       "      <td>-4.937317</td>\n",
       "      <td>0.644614</td>\n",
       "      <td>218.617661</td>\n",
       "    </tr>\n",
       "    <tr>\n",
       "      <th>15088</th>\n",
       "      <td>-5.004478</td>\n",
       "      <td>0.707482</td>\n",
       "      <td>218.440002</td>\n",
       "    </tr>\n",
       "    <tr>\n",
       "      <th>15089</th>\n",
       "      <td>-4.782608</td>\n",
       "      <td>0.777313</td>\n",
       "      <td>218.753815</td>\n",
       "    </tr>\n",
       "  </tbody>\n",
       "</table>\n",
       "<p>15090 rows × 3 columns</p>\n",
       "</div>"
      ],
      "text/plain": [
       "              0          1           2\n",
       "0      8.435681 -11.047253  244.750290\n",
       "1      8.446041 -11.026495  244.748108\n",
       "2      8.476759 -10.750369  244.646225\n",
       "3      8.465103 -10.767718  244.659836\n",
       "4      8.720955 -10.878760  244.621460\n",
       "...         ...        ...         ...\n",
       "15085 -4.601030   1.012755  218.866974\n",
       "15086 -4.917066   0.879322  218.440002\n",
       "15087 -4.937317   0.644614  218.617661\n",
       "15088 -5.004478   0.707482  218.440002\n",
       "15089 -4.782608   0.777313  218.753815\n",
       "\n",
       "[15090 rows x 3 columns]"
      ]
     },
     "execution_count": 10,
     "metadata": {},
     "output_type": "execute_result"
    }
   ],
   "source": [
    "df"
   ]
  },
  {
   "cell_type": "code",
   "execution_count": 8,
   "id": "c194713f",
   "metadata": {},
   "outputs": [
    {
     "data": {
      "text/plain": [
       "15090"
      ]
     },
     "execution_count": 8,
     "metadata": {},
     "output_type": "execute_result"
    }
   ],
   "source": [
    "import pandas as pd\n",
    "\n",
    "df1= pd.read_csv(r\"textfile/rotated_blade.txt\", header=None, sep=\" \")\n",
    "len(df1)"
   ]
  },
  {
   "cell_type": "code",
   "execution_count": 9,
   "id": "e6fc6d37",
   "metadata": {},
   "outputs": [
    {
     "data": {
      "text/html": [
       "<div>\n",
       "<style scoped>\n",
       "    .dataframe tbody tr th:only-of-type {\n",
       "        vertical-align: middle;\n",
       "    }\n",
       "\n",
       "    .dataframe tbody tr th {\n",
       "        vertical-align: top;\n",
       "    }\n",
       "\n",
       "    .dataframe thead th {\n",
       "        text-align: right;\n",
       "    }\n",
       "</style>\n",
       "<table border=\"1\" class=\"dataframe\">\n",
       "  <thead>\n",
       "    <tr style=\"text-align: right;\">\n",
       "      <th></th>\n",
       "      <th>0</th>\n",
       "      <th>1</th>\n",
       "      <th>2</th>\n",
       "    </tr>\n",
       "  </thead>\n",
       "  <tbody>\n",
       "    <tr>\n",
       "      <th>0</th>\n",
       "      <td>8.435681</td>\n",
       "      <td>-127.034416</td>\n",
       "      <td>209.492251</td>\n",
       "    </tr>\n",
       "    <tr>\n",
       "      <th>1</th>\n",
       "      <td>8.446041</td>\n",
       "      <td>-127.015153</td>\n",
       "      <td>209.500288</td>\n",
       "    </tr>\n",
       "    <tr>\n",
       "      <th>2</th>\n",
       "      <td>8.476759</td>\n",
       "      <td>-126.723985</td>\n",
       "      <td>209.543259</td>\n",
       "    </tr>\n",
       "    <tr>\n",
       "      <th>3</th>\n",
       "      <td>8.465103</td>\n",
       "      <td>-126.745735</td>\n",
       "      <td>209.546886</td>\n",
       "    </tr>\n",
       "    <tr>\n",
       "      <th>4</th>\n",
       "      <td>8.720955</td>\n",
       "      <td>-126.824786</td>\n",
       "      <td>209.459972</td>\n",
       "    </tr>\n",
       "    <tr>\n",
       "      <th>...</th>\n",
       "      <td>...</td>\n",
       "      <td>...</td>\n",
       "      <td>...</td>\n",
       "    </tr>\n",
       "    <tr>\n",
       "      <th>15085</th>\n",
       "      <td>-4.601030</td>\n",
       "      <td>-104.041641</td>\n",
       "      <td>192.559380</td>\n",
       "    </tr>\n",
       "    <tr>\n",
       "      <th>15086</th>\n",
       "      <td>-4.917066</td>\n",
       "      <td>-103.954038</td>\n",
       "      <td>192.120706</td>\n",
       "    </tr>\n",
       "    <tr>\n",
       "      <th>15087</th>\n",
       "      <td>-4.937317</td>\n",
       "      <td>-104.245188</td>\n",
       "      <td>192.164091</td>\n",
       "    </tr>\n",
       "    <tr>\n",
       "      <th>15088</th>\n",
       "      <td>-5.004478</td>\n",
       "      <td>-104.104842</td>\n",
       "      <td>192.038322</td>\n",
       "    </tr>\n",
       "    <tr>\n",
       "      <th>15089</th>\n",
       "      <td>-4.782608</td>\n",
       "      <td>-104.194009</td>\n",
       "      <td>192.347197</td>\n",
       "    </tr>\n",
       "  </tbody>\n",
       "</table>\n",
       "<p>15090 rows × 3 columns</p>\n",
       "</div>"
      ],
      "text/plain": [
       "              0           1           2\n",
       "0      8.435681 -127.034416  209.492251\n",
       "1      8.446041 -127.015153  209.500288\n",
       "2      8.476759 -126.723985  209.543259\n",
       "3      8.465103 -126.745735  209.546886\n",
       "4      8.720955 -126.824786  209.459972\n",
       "...         ...         ...         ...\n",
       "15085 -4.601030 -104.041641  192.559380\n",
       "15086 -4.917066 -103.954038  192.120706\n",
       "15087 -4.937317 -104.245188  192.164091\n",
       "15088 -5.004478 -104.104842  192.038322\n",
       "15089 -4.782608 -104.194009  192.347197\n",
       "\n",
       "[15090 rows x 3 columns]"
      ]
     },
     "execution_count": 9,
     "metadata": {},
     "output_type": "execute_result"
    }
   ],
   "source": [
    "df1"
   ]
  },
  {
   "cell_type": "code",
   "execution_count": 115,
   "id": "a1f13241",
   "metadata": {},
   "outputs": [
    {
     "data": {
      "text/html": [
       "<div>\n",
       "<style scoped>\n",
       "    .dataframe tbody tr th:only-of-type {\n",
       "        vertical-align: middle;\n",
       "    }\n",
       "\n",
       "    .dataframe tbody tr th {\n",
       "        vertical-align: top;\n",
       "    }\n",
       "\n",
       "    .dataframe thead th {\n",
       "        text-align: right;\n",
       "    }\n",
       "</style>\n",
       "<table border=\"1\" class=\"dataframe\">\n",
       "  <thead>\n",
       "    <tr style=\"text-align: right;\">\n",
       "      <th></th>\n",
       "      <th>0</th>\n",
       "      <th>1</th>\n",
       "      <th>2</th>\n",
       "    </tr>\n",
       "  </thead>\n",
       "  <tbody>\n",
       "    <tr>\n",
       "      <th>0</th>\n",
       "      <td>210.508086</td>\n",
       "      <td>-11.047253</td>\n",
       "      <td>125.140765</td>\n",
       "    </tr>\n",
       "    <tr>\n",
       "      <th>1</th>\n",
       "      <td>210.511847</td>\n",
       "      <td>-11.026495</td>\n",
       "      <td>125.130869</td>\n",
       "    </tr>\n",
       "    <tr>\n",
       "      <th>2</th>\n",
       "      <td>210.442712</td>\n",
       "      <td>-10.750369</td>\n",
       "      <td>125.049973</td>\n",
       "    </tr>\n",
       "    <tr>\n",
       "      <th>3</th>\n",
       "      <td>210.447868</td>\n",
       "      <td>-10.767718</td>\n",
       "      <td>125.067135</td>\n",
       "    </tr>\n",
       "    <tr>\n",
       "      <th>4</th>\n",
       "      <td>210.553813</td>\n",
       "      <td>-10.878760</td>\n",
       "      <td>124.831108</td>\n",
       "    </tr>\n",
       "    <tr>\n",
       "      <th>...</th>\n",
       "      <td>...</td>\n",
       "      <td>...</td>\n",
       "      <td>...</td>\n",
       "    </tr>\n",
       "    <tr>\n",
       "      <th>15085</th>\n",
       "      <td>181.684261</td>\n",
       "      <td>1.012755</td>\n",
       "      <td>122.125964</td>\n",
       "    </tr>\n",
       "    <tr>\n",
       "      <th>15086</th>\n",
       "      <td>181.154222</td>\n",
       "      <td>0.879322</td>\n",
       "      <td>122.161205</td>\n",
       "    </tr>\n",
       "    <tr>\n",
       "      <th>15087</th>\n",
       "      <td>181.292774</td>\n",
       "      <td>0.644614</td>\n",
       "      <td>122.274235</td>\n",
       "    </tr>\n",
       "    <tr>\n",
       "      <th>15088</th>\n",
       "      <td>181.106993</td>\n",
       "      <td>0.707482</td>\n",
       "      <td>122.234760</td>\n",
       "    </tr>\n",
       "    <tr>\n",
       "      <th>15089</th>\n",
       "      <td>181.490934</td>\n",
       "      <td>0.777313</td>\n",
       "      <td>122.217616</td>\n",
       "    </tr>\n",
       "  </tbody>\n",
       "</table>\n",
       "<p>15090 rows × 3 columns</p>\n",
       "</div>"
      ],
      "text/plain": [
       "                0          1           2\n",
       "0      210.508086 -11.047253  125.140765\n",
       "1      210.511847 -11.026495  125.130869\n",
       "2      210.442712 -10.750369  125.049973\n",
       "3      210.447868 -10.767718  125.067135\n",
       "4      210.553813 -10.878760  124.831108\n",
       "...           ...        ...         ...\n",
       "15085  181.684261   1.012755  122.125964\n",
       "15086  181.154222   0.879322  122.161205\n",
       "15087  181.292774   0.644614  122.274235\n",
       "15088  181.106993   0.707482  122.234760\n",
       "15089  181.490934   0.777313  122.217616\n",
       "\n",
       "[15090 rows x 3 columns]"
      ]
     },
     "execution_count": 115,
     "metadata": {},
     "output_type": "execute_result"
    }
   ],
   "source": [
    "df1"
   ]
  },
  {
   "cell_type": "code",
   "execution_count": 62,
   "id": "86ef4878",
   "metadata": {},
   "outputs": [
    {
     "data": {
      "text/plain": [
       "array([[  8.43568134, -11.04725266, 244.75028992],\n",
       "       [  8.44604111, -11.02649498, 244.74810791],\n",
       "       [  8.47675896, -10.75036907, 244.64622498],\n",
       "       ...,\n",
       "       [ -4.93731689,   0.6446135 , 218.61766052],\n",
       "       [ -5.00447845,   0.70748168, 218.44000244],\n",
       "       [ -4.78260803,   0.77731293, 218.7538147 ]])"
      ]
     },
     "execution_count": 62,
     "metadata": {},
     "output_type": "execute_result"
    }
   ],
   "source": [
    "array"
   ]
  },
  {
   "cell_type": "code",
   "execution_count": 66,
   "id": "3fa0873f",
   "metadata": {},
   "outputs": [
    {
     "data": {
      "text/plain": [
       "numpy.float64"
      ]
     },
     "execution_count": 66,
     "metadata": {},
     "output_type": "execute_result"
    }
   ],
   "source": [
    "type(array[0][0])"
   ]
  },
  {
   "cell_type": "code",
   "execution_count": null,
   "id": "a7fbf1b0",
   "metadata": {},
   "outputs": [],
   "source": []
  },
  {
   "cell_type": "code",
   "execution_count": null,
   "id": "7c29822b",
   "metadata": {},
   "outputs": [],
   "source": []
  },
  {
   "cell_type": "code",
   "execution_count": null,
   "id": "875f56b1",
   "metadata": {},
   "outputs": [],
   "source": []
  },
  {
   "cell_type": "code",
   "execution_count": null,
   "id": "6e028f70",
   "metadata": {},
   "outputs": [],
   "source": [
    "#"
   ]
  },
  {
   "cell_type": "code",
   "execution_count": null,
   "id": "0233c254",
   "metadata": {},
   "outputs": [],
   "source": []
  },
  {
   "cell_type": "code",
   "execution_count": null,
   "id": "57058fd7",
   "metadata": {},
   "outputs": [],
   "source": []
  },
  {
   "cell_type": "code",
   "execution_count": 81,
   "id": "7f7c9d08",
   "metadata": {
    "scrolled": true
   },
   "outputs": [],
   "source": [
    "######################\n",
    "\n",
    "def read_xyz(path_to_pc):\n",
    "    X = []\n",
    "    with open(path_to_pc) as f:\n",
    "        reader = csv.reader(f, delimiter=' ')\n",
    "        for row in reader:\n",
    "            X.append(list(map(float, row)))\n",
    "    return X\n",
    "\n",
    "\n",
    "path_to_pc1 = 'converted/Rotated2_FW75735.txt'\n",
    "\n",
    "\n",
    "X_fix = np.array(read_xyz(path_to_pc1))\n",
    "#\n",
    "#############################"
   ]
  },
  {
   "cell_type": "code",
   "execution_count": 82,
   "id": "c542bf26",
   "metadata": {},
   "outputs": [
    {
     "data": {
      "text/plain": [
       "array([[   8.43568134, -127.03441585,  209.49225139],\n",
       "       [   8.44604111, -127.01515317,  209.50028826],\n",
       "       [   8.47675896, -126.72398461,  209.54325939],\n",
       "       ...,\n",
       "       [  -4.93731689, -104.24518807,  192.16409077],\n",
       "       [  -5.00447845, -104.10484224,  192.03832175],\n",
       "       [  -4.78260803, -104.19400916,  192.3471968 ]])"
      ]
     },
     "execution_count": 82,
     "metadata": {},
     "output_type": "execute_result"
    }
   ],
   "source": [
    "X_fix"
   ]
  },
  {
   "cell_type": "code",
   "execution_count": 74,
   "id": "c8227d29",
   "metadata": {},
   "outputs": [],
   "source": [
    "\n",
    "\n",
    "path_to_pc2 = '../../../data/dragon1.xyz'\n",
    "\n",
    "\n",
    "X_mov = np.array(read_xyz(path_to_pc2))\n"
   ]
  },
  {
   "cell_type": "code",
   "execution_count": 75,
   "id": "764d7e60",
   "metadata": {},
   "outputs": [
    {
     "data": {
      "text/plain": [
       "array([[ 3.1798,  5.0338,  5.6575],\n",
       "       [ 3.2396,  5.0338,  5.6575],\n",
       "       [ 3.2727,  5.0359,  5.6925],\n",
       "       ...,\n",
       "       [ 4.3913, -2.0228,  7.9938],\n",
       "       [ 4.3637, -2.028 ,  7.9399],\n",
       "       [ 4.377 , -2.0292,  7.9644]])"
      ]
     },
     "execution_count": 75,
     "metadata": {},
     "output_type": "execute_result"
    }
   ],
   "source": [
    "X_mov"
   ]
  },
  {
   "cell_type": "code",
   "execution_count": 108,
   "id": "1c90da96",
   "metadata": {},
   "outputs": [],
   "source": [
    "######### Viewer\n",
    "\n",
    "\n",
    "if __name__ == \"__main__\":\n",
    "    knot_data = o3d.data.KnotMesh()\n",
    "    #print(f\"Reading mesh from file: knot.ply stored at {knot_data.path}\")\n",
    "    mesh = o3d.io.read_triangle_mesh(\"../Step1/Files_blades/Rotatey.ply\")\n",
    "    R = mesh.get_rotation_matrix_from_yxz((1,0,0))\n",
    "    mesh = mesh.rotate(R, center=(0,0,0))\n",
    "    mesh.compute_vertex_normals()\n",
    "    o3d.visualization.draw_geometries([mesh])\n",
    "\n",
    "\n",
    "\n",
    "###############"
   ]
  },
  {
   "cell_type": "code",
   "execution_count": null,
   "id": "fe917847",
   "metadata": {},
   "outputs": [],
   "source": []
  }
 ],
 "metadata": {
  "kernelspec": {
   "display_name": "Python 3",
   "language": "python",
   "name": "python3"
  },
  "language_info": {
   "codemirror_mode": {
    "name": "ipython",
    "version": 3
   },
   "file_extension": ".py",
   "mimetype": "text/x-python",
   "name": "python",
   "nbconvert_exporter": "python",
   "pygments_lexer": "ipython3",
   "version": "3.6.15"
  }
 },
 "nbformat": 4,
 "nbformat_minor": 5
}
