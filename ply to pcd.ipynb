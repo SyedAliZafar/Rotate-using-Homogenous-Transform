{
 "cells": [
  {
   "cell_type": "code",
   "execution_count": null,
   "id": "355217eb",
   "metadata": {},
   "outputs": [],
   "source": []
  },
  {
   "cell_type": "code",
   "execution_count": null,
   "id": "52a88940",
   "metadata": {},
   "outputs": [],
   "source": []
  },
  {
   "cell_type": "code",
   "execution_count": 2,
   "id": "ba1c21ef",
   "metadata": {},
   "outputs": [
    {
     "data": {
      "text/plain": [
       "True"
      ]
     },
     "execution_count": 2,
     "metadata": {},
     "output_type": "execute_result"
    }
   ],
   "source": []
  },
  {
   "cell_type": "code",
   "execution_count": 7,
   "id": "f032944c",
   "metadata": {},
   "outputs": [
    {
     "data": {
      "text/plain": [
       "True"
      ]
     },
     "execution_count": 7,
     "metadata": {},
     "output_type": "execute_result"
    }
   ],
   "source": [
    "import open3d as o3d\n",
    "pcd = o3d.io.read_point_cloud(\"D:\\image_processing\\Michael_CAD\\KIRAS_CADFILE\\Mesh without plane.ply\")\n",
    "o3d.io.write_point_cloud(\"D:\\image_processing\\Michael_CAD\\KIRAS_CADFILE\\Meshwithoutplane.pcd\", pcd)"
   ]
  },
  {
   "cell_type": "code",
   "execution_count": 4,
   "id": "9eb6b12a",
   "metadata": {},
   "outputs": [
    {
     "data": {
      "text/plain": [
       "'D:\\\\image_processing\\\\simpleICP\\\\python\\\\Point_ICP_comaprsion\\\\Step2'"
      ]
     },
     "execution_count": 4,
     "metadata": {},
     "output_type": "execute_result"
    }
   ],
   "source": [
    "pwd"
   ]
  },
  {
   "cell_type": "code",
   "execution_count": 5,
   "id": "1e495f5f",
   "metadata": {},
   "outputs": [
    {
     "data": {
      "text/plain": [
       "True"
      ]
     },
     "execution_count": 5,
     "metadata": {},
     "output_type": "execute_result"
    }
   ],
   "source": [
    "import open3d as o3d\n",
    "pcd = o3d.io.read_point_cloud(\"../Step3/copy_of_fragment.pcd\")\n",
    "o3d.io.write_point_cloud(\"copy_jt.ply\", pcd)"
   ]
  },
  {
   "cell_type": "code",
   "execution_count": 3,
   "id": "445016b9",
   "metadata": {},
   "outputs": [
    {
     "data": {
      "text/plain": [
       "True"
      ]
     },
     "execution_count": 3,
     "metadata": {},
     "output_type": "execute_result"
    }
   ],
   "source": [
    "########## Text to ply ###########\n",
    "\n",
    "\n",
    "import open3d as o3d\n",
    "\n",
    "pcd = o3d.io.read_point_cloud(r\"D:/image_processing/Michael_CAD/CompareCADandME4/AlignedMicroEpsilon.txt\",format=\"xyz\")\n",
    "o3d.io.write_point_cloud(r\"D:\\image_processing\\Michael_CAD\\CompareCADandME4\\AlignedMicroEpsilon.pcd\", pcd)"
   ]
  },
  {
   "cell_type": "code",
   "execution_count": null,
   "id": "422bdc70",
   "metadata": {},
   "outputs": [],
   "source": []
  }
 ],
 "metadata": {
  "kernelspec": {
   "display_name": "Python 3",
   "language": "python",
   "name": "python3"
  },
  "language_info": {
   "codemirror_mode": {
    "name": "ipython",
    "version": 3
   },
   "file_extension": ".py",
   "mimetype": "text/x-python",
   "name": "python",
   "nbconvert_exporter": "python",
   "pygments_lexer": "ipython3",
   "version": "3.6.15"
  }
 },
 "nbformat": 4,
 "nbformat_minor": 5
}
